{
 "cells": [
  {
   "cell_type": "markdown",
   "metadata": {},
   "source": [
    "# Введение в машинное обучение\n",
    "\n",
    "## Семинар #8\n",
    "\n",
    "### Екатерина Кондратьева\n",
    "\n",
    "ekaterina.kondrateva@skoltech.ru\n",
    "\n",
    "## Обучение без учителя. Кластеризация и снижение размерности"
   ]
  },
  {
   "cell_type": "code",
   "execution_count": 1,
   "metadata": {},
   "outputs": [],
   "source": [
    "import numpy as np\n",
    "import sklearn\n",
    "from sklearn.model_selection import train_test_split\n",
    "import pandas as pd\n",
    "import matplotlib.pyplot as plt\n",
    "from sklearn.model_selection import cross_val_score\n",
    "import warnings\n",
    "warnings.filterwarnings(\"ignore\")\n",
    "\n",
    "\n",
    "%matplotlib inline"
   ]
  },
  {
   "cell_type": "markdown",
   "metadata": {},
   "source": [
    "## Кто такие аутлайеры (аномалии)? "
   ]
  },
  {
   "cell_type": "markdown",
   "metadata": {},
   "source": [
    "Это наблюдение, которое \"**отличается**\" \"**настолько сильно**\" от \"**прочих наблюдений**\""
   ]
  },
  {
   "cell_type": "markdown",
   "metadata": {},
   "source": [
    "Определение аномалий в датасете невозможно без: \n",
    "   1. определения **\"прочих наблюдений\"** (модели данных)\n",
    "   2. определения метрики отклонения (**\"отличия\"**) от **\"прочих наблюдений\"** \n",
    "   3. определения **\"насколько сильно\"** аномальные объекты **\"отличаются\"** от **\"прочих наблюдений\"**"
   ]
  },
  {
   "cell_type": "markdown",
   "metadata": {},
   "source": [
    "##### Назовите самый простой способ детектирования аномалий?"
   ]
  },
  {
   "cell_type": "markdown",
   "metadata": {},
   "source": [
    " "
   ]
  },
  {
   "cell_type": "markdown",
   "metadata": {},
   "source": [
    "*Спойлер: СТД? Квантили?*"
   ]
  },
  {
   "cell_type": "markdown",
   "metadata": {},
   "source": [
    "## 1.  Нахождение фрода\n",
    "\n",
    "Источник: https://www.kaggle.com/dalpozz/creditcardfraud"
   ]
  },
  {
   "cell_type": "code",
   "execution_count": 2,
   "metadata": {
    "scrolled": true
   },
   "outputs": [],
   "source": [
    "data = pd.read_csv(\"./data/creditcard.csv\")"
   ]
  },
  {
   "cell_type": "markdown",
   "metadata": {},
   "source": [
    "Давайте проверим, сколько \"фрода\" в этой выборке?"
   ]
  },
  {
   "cell_type": "code",
   "execution_count": 3,
   "metadata": {},
   "outputs": [
    {
     "data": {
      "text/html": [
       "<div>\n",
       "<style scoped>\n",
       "    .dataframe tbody tr th:only-of-type {\n",
       "        vertical-align: middle;\n",
       "    }\n",
       "\n",
       "    .dataframe tbody tr th {\n",
       "        vertical-align: top;\n",
       "    }\n",
       "\n",
       "    .dataframe thead th {\n",
       "        text-align: right;\n",
       "    }\n",
       "</style>\n",
       "<table border=\"1\" class=\"dataframe\">\n",
       "  <thead>\n",
       "    <tr style=\"text-align: right;\">\n",
       "      <th></th>\n",
       "      <th>Time</th>\n",
       "      <th>V1</th>\n",
       "      <th>V2</th>\n",
       "      <th>V3</th>\n",
       "      <th>V4</th>\n",
       "      <th>V5</th>\n",
       "      <th>V6</th>\n",
       "      <th>V7</th>\n",
       "      <th>V8</th>\n",
       "      <th>V9</th>\n",
       "      <th>...</th>\n",
       "      <th>V21</th>\n",
       "      <th>V22</th>\n",
       "      <th>V23</th>\n",
       "      <th>V24</th>\n",
       "      <th>V25</th>\n",
       "      <th>V26</th>\n",
       "      <th>V27</th>\n",
       "      <th>V28</th>\n",
       "      <th>Amount</th>\n",
       "      <th>Class</th>\n",
       "    </tr>\n",
       "  </thead>\n",
       "  <tbody>\n",
       "    <tr>\n",
       "      <th>11258</th>\n",
       "      <td>19546.0</td>\n",
       "      <td>-0.454749</td>\n",
       "      <td>-4.054983</td>\n",
       "      <td>-0.273254</td>\n",
       "      <td>-0.399568</td>\n",
       "      <td>-2.590132</td>\n",
       "      <td>-0.393092</td>\n",
       "      <td>0.138466</td>\n",
       "      <td>-0.391686</td>\n",
       "      <td>-0.873562</td>\n",
       "      <td>...</td>\n",
       "      <td>0.054097</td>\n",
       "      <td>-1.563757</td>\n",
       "      <td>-0.628145</td>\n",
       "      <td>0.457243</td>\n",
       "      <td>-0.338810</td>\n",
       "      <td>-0.653193</td>\n",
       "      <td>-0.184372</td>\n",
       "      <td>0.185015</td>\n",
       "      <td>1002.00</td>\n",
       "      <td>0</td>\n",
       "    </tr>\n",
       "    <tr>\n",
       "      <th>78321</th>\n",
       "      <td>57475.0</td>\n",
       "      <td>-6.423197</td>\n",
       "      <td>1.072629</td>\n",
       "      <td>-3.820238</td>\n",
       "      <td>-0.269845</td>\n",
       "      <td>-4.125205</td>\n",
       "      <td>-0.690805</td>\n",
       "      <td>-0.196968</td>\n",
       "      <td>2.840871</td>\n",
       "      <td>-0.307457</td>\n",
       "      <td>...</td>\n",
       "      <td>0.011082</td>\n",
       "      <td>0.109586</td>\n",
       "      <td>-0.041425</td>\n",
       "      <td>0.576822</td>\n",
       "      <td>-0.291755</td>\n",
       "      <td>0.837947</td>\n",
       "      <td>-0.077805</td>\n",
       "      <td>-0.788987</td>\n",
       "      <td>255.30</td>\n",
       "      <td>0</td>\n",
       "    </tr>\n",
       "    <tr>\n",
       "      <th>226814</th>\n",
       "      <td>144808.0</td>\n",
       "      <td>-2.405207</td>\n",
       "      <td>2.943823</td>\n",
       "      <td>-7.616654</td>\n",
       "      <td>3.533374</td>\n",
       "      <td>-5.417494</td>\n",
       "      <td>-0.112632</td>\n",
       "      <td>-1.329372</td>\n",
       "      <td>1.709417</td>\n",
       "      <td>-2.322716</td>\n",
       "      <td>...</td>\n",
       "      <td>0.652683</td>\n",
       "      <td>0.414132</td>\n",
       "      <td>0.023869</td>\n",
       "      <td>-0.260616</td>\n",
       "      <td>0.405316</td>\n",
       "      <td>0.029107</td>\n",
       "      <td>0.519807</td>\n",
       "      <td>-0.469537</td>\n",
       "      <td>667.55</td>\n",
       "      <td>1</td>\n",
       "    </tr>\n",
       "    <tr>\n",
       "      <th>276476</th>\n",
       "      <td>167121.0</td>\n",
       "      <td>-0.454736</td>\n",
       "      <td>0.189683</td>\n",
       "      <td>0.839674</td>\n",
       "      <td>-0.810172</td>\n",
       "      <td>0.458127</td>\n",
       "      <td>0.106038</td>\n",
       "      <td>0.427228</td>\n",
       "      <td>0.195571</td>\n",
       "      <td>-1.232442</td>\n",
       "      <td>...</td>\n",
       "      <td>-0.136466</td>\n",
       "      <td>0.090678</td>\n",
       "      <td>-0.255906</td>\n",
       "      <td>0.628284</td>\n",
       "      <td>0.175469</td>\n",
       "      <td>-0.617653</td>\n",
       "      <td>0.147898</td>\n",
       "      <td>0.142017</td>\n",
       "      <td>9.94</td>\n",
       "      <td>0</td>\n",
       "    </tr>\n",
       "    <tr>\n",
       "      <th>174521</th>\n",
       "      <td>121948.0</td>\n",
       "      <td>0.014204</td>\n",
       "      <td>0.516012</td>\n",
       "      <td>0.248349</td>\n",
       "      <td>-0.307436</td>\n",
       "      <td>0.180279</td>\n",
       "      <td>1.025058</td>\n",
       "      <td>-0.806851</td>\n",
       "      <td>-1.255250</td>\n",
       "      <td>0.843365</td>\n",
       "      <td>...</td>\n",
       "      <td>1.673448</td>\n",
       "      <td>0.206028</td>\n",
       "      <td>-0.294641</td>\n",
       "      <td>0.199466</td>\n",
       "      <td>0.902569</td>\n",
       "      <td>0.829324</td>\n",
       "      <td>0.220143</td>\n",
       "      <td>0.262698</td>\n",
       "      <td>7.50</td>\n",
       "      <td>0</td>\n",
       "    </tr>\n",
       "  </tbody>\n",
       "</table>\n",
       "<p>5 rows × 31 columns</p>\n",
       "</div>"
      ],
      "text/plain": [
       "            Time        V1        V2        V3        V4        V5        V6  \\\n",
       "11258    19546.0 -0.454749 -4.054983 -0.273254 -0.399568 -2.590132 -0.393092   \n",
       "78321    57475.0 -6.423197  1.072629 -3.820238 -0.269845 -4.125205 -0.690805   \n",
       "226814  144808.0 -2.405207  2.943823 -7.616654  3.533374 -5.417494 -0.112632   \n",
       "276476  167121.0 -0.454736  0.189683  0.839674 -0.810172  0.458127  0.106038   \n",
       "174521  121948.0  0.014204  0.516012  0.248349 -0.307436  0.180279  1.025058   \n",
       "\n",
       "              V7        V8        V9  ...         V21       V22       V23  \\\n",
       "11258   0.138466 -0.391686 -0.873562  ...    0.054097 -1.563757 -0.628145   \n",
       "78321  -0.196968  2.840871 -0.307457  ...    0.011082  0.109586 -0.041425   \n",
       "226814 -1.329372  1.709417 -2.322716  ...    0.652683  0.414132  0.023869   \n",
       "276476  0.427228  0.195571 -1.232442  ...   -0.136466  0.090678 -0.255906   \n",
       "174521 -0.806851 -1.255250  0.843365  ...    1.673448  0.206028 -0.294641   \n",
       "\n",
       "             V24       V25       V26       V27       V28   Amount  Class  \n",
       "11258   0.457243 -0.338810 -0.653193 -0.184372  0.185015  1002.00      0  \n",
       "78321   0.576822 -0.291755  0.837947 -0.077805 -0.788987   255.30      0  \n",
       "226814 -0.260616  0.405316  0.029107  0.519807 -0.469537   667.55      1  \n",
       "276476  0.628284  0.175469 -0.617653  0.147898  0.142017     9.94      0  \n",
       "174521  0.199466  0.902569  0.829324  0.220143  0.262698     7.50      0  \n",
       "\n",
       "[5 rows x 31 columns]"
      ]
     },
     "execution_count": 3,
     "metadata": {},
     "output_type": "execute_result"
    }
   ],
   "source": [
    "data.head()"
   ]
  },
  {
   "cell_type": "code",
   "execution_count": 5,
   "metadata": {},
   "outputs": [
    {
     "data": {
      "text/plain": [
       "0    28432\n",
       "1      492\n",
       "Name: Class, dtype: int64"
      ]
     },
     "execution_count": 5,
     "metadata": {},
     "output_type": "execute_result"
    }
   ],
   "source": [
    "data['Class'].value_counts()"
   ]
  },
  {
   "cell_type": "markdown",
   "metadata": {},
   "source": [
    "Должно быть  1.7% , что можно сказать про баланс классов?"
   ]
  },
  {
   "cell_type": "code",
   "execution_count": 6,
   "metadata": {
    "scrolled": true
   },
   "outputs": [
    {
     "data": {
      "text/html": [
       "<div>\n",
       "<style scoped>\n",
       "    .dataframe tbody tr th:only-of-type {\n",
       "        vertical-align: middle;\n",
       "    }\n",
       "\n",
       "    .dataframe tbody tr th {\n",
       "        vertical-align: top;\n",
       "    }\n",
       "\n",
       "    .dataframe thead th {\n",
       "        text-align: right;\n",
       "    }\n",
       "</style>\n",
       "<table border=\"1\" class=\"dataframe\">\n",
       "  <thead>\n",
       "    <tr style=\"text-align: right;\">\n",
       "      <th></th>\n",
       "      <th>Time</th>\n",
       "      <th>V1</th>\n",
       "      <th>V2</th>\n",
       "      <th>V3</th>\n",
       "      <th>V4</th>\n",
       "      <th>V5</th>\n",
       "      <th>V6</th>\n",
       "      <th>V7</th>\n",
       "      <th>V8</th>\n",
       "      <th>V9</th>\n",
       "      <th>...</th>\n",
       "      <th>V21</th>\n",
       "      <th>V22</th>\n",
       "      <th>V23</th>\n",
       "      <th>V24</th>\n",
       "      <th>V25</th>\n",
       "      <th>V26</th>\n",
       "      <th>V27</th>\n",
       "      <th>V28</th>\n",
       "      <th>Amount</th>\n",
       "      <th>Class</th>\n",
       "    </tr>\n",
       "  </thead>\n",
       "  <tbody>\n",
       "    <tr>\n",
       "      <th>count</th>\n",
       "      <td>28924.000000</td>\n",
       "      <td>28924.000000</td>\n",
       "      <td>28924.000000</td>\n",
       "      <td>28924.000000</td>\n",
       "      <td>28924.000000</td>\n",
       "      <td>28924.000000</td>\n",
       "      <td>28924.000000</td>\n",
       "      <td>28924.000000</td>\n",
       "      <td>28924.000000</td>\n",
       "      <td>28924.000000</td>\n",
       "      <td>...</td>\n",
       "      <td>28924.000000</td>\n",
       "      <td>28924.000000</td>\n",
       "      <td>28924.000000</td>\n",
       "      <td>28924.000000</td>\n",
       "      <td>28924.000000</td>\n",
       "      <td>28924.000000</td>\n",
       "      <td>28924.000000</td>\n",
       "      <td>28924.000000</td>\n",
       "      <td>28924.000000</td>\n",
       "      <td>28924.000000</td>\n",
       "    </tr>\n",
       "    <tr>\n",
       "      <th>mean</th>\n",
       "      <td>94597.165641</td>\n",
       "      <td>-0.063516</td>\n",
       "      <td>0.075994</td>\n",
       "      <td>-0.116809</td>\n",
       "      <td>0.083753</td>\n",
       "      <td>-0.054695</td>\n",
       "      <td>-0.016576</td>\n",
       "      <td>-0.078323</td>\n",
       "      <td>0.015787</td>\n",
       "      <td>-0.039995</td>\n",
       "      <td>...</td>\n",
       "      <td>0.010800</td>\n",
       "      <td>-0.000310</td>\n",
       "      <td>-0.004370</td>\n",
       "      <td>-0.000643</td>\n",
       "      <td>-0.000772</td>\n",
       "      <td>0.002518</td>\n",
       "      <td>0.002694</td>\n",
       "      <td>0.001286</td>\n",
       "      <td>87.285667</td>\n",
       "      <td>0.017010</td>\n",
       "    </tr>\n",
       "    <tr>\n",
       "      <th>std</th>\n",
       "      <td>47526.033582</td>\n",
       "      <td>2.173112</td>\n",
       "      <td>1.697883</td>\n",
       "      <td>1.935877</td>\n",
       "      <td>1.546847</td>\n",
       "      <td>1.556783</td>\n",
       "      <td>1.348886</td>\n",
       "      <td>1.649011</td>\n",
       "      <td>1.431676</td>\n",
       "      <td>1.170255</td>\n",
       "      <td>...</td>\n",
       "      <td>0.862053</td>\n",
       "      <td>0.742108</td>\n",
       "      <td>0.565251</td>\n",
       "      <td>0.605248</td>\n",
       "      <td>0.520625</td>\n",
       "      <td>0.481248</td>\n",
       "      <td>0.434112</td>\n",
       "      <td>0.345710</td>\n",
       "      <td>235.492046</td>\n",
       "      <td>0.129311</td>\n",
       "    </tr>\n",
       "    <tr>\n",
       "      <th>min</th>\n",
       "      <td>0.000000</td>\n",
       "      <td>-30.552380</td>\n",
       "      <td>-40.978852</td>\n",
       "      <td>-31.103685</td>\n",
       "      <td>-5.683171</td>\n",
       "      <td>-32.092129</td>\n",
       "      <td>-17.118592</td>\n",
       "      <td>-43.557242</td>\n",
       "      <td>-41.484823</td>\n",
       "      <td>-13.434066</td>\n",
       "      <td>...</td>\n",
       "      <td>-22.797604</td>\n",
       "      <td>-8.887017</td>\n",
       "      <td>-19.254328</td>\n",
       "      <td>-2.822684</td>\n",
       "      <td>-4.781606</td>\n",
       "      <td>-1.664130</td>\n",
       "      <td>-9.895244</td>\n",
       "      <td>-8.478686</td>\n",
       "      <td>0.000000</td>\n",
       "      <td>0.000000</td>\n",
       "    </tr>\n",
       "    <tr>\n",
       "      <th>25%</th>\n",
       "      <td>53988.250000</td>\n",
       "      <td>-0.940423</td>\n",
       "      <td>-0.579151</td>\n",
       "      <td>-0.962786</td>\n",
       "      <td>-0.824836</td>\n",
       "      <td>-0.703097</td>\n",
       "      <td>-0.787944</td>\n",
       "      <td>-0.569843</td>\n",
       "      <td>-0.206605</td>\n",
       "      <td>-0.658765</td>\n",
       "      <td>...</td>\n",
       "      <td>-0.228051</td>\n",
       "      <td>-0.546631</td>\n",
       "      <td>-0.160934</td>\n",
       "      <td>-0.356201</td>\n",
       "      <td>-0.316206</td>\n",
       "      <td>-0.325299</td>\n",
       "      <td>-0.070677</td>\n",
       "      <td>-0.052643</td>\n",
       "      <td>5.390000</td>\n",
       "      <td>0.000000</td>\n",
       "    </tr>\n",
       "    <tr>\n",
       "      <th>50%</th>\n",
       "      <td>84602.500000</td>\n",
       "      <td>0.008535</td>\n",
       "      <td>0.078486</td>\n",
       "      <td>0.152450</td>\n",
       "      <td>0.016759</td>\n",
       "      <td>-0.062998</td>\n",
       "      <td>-0.290597</td>\n",
       "      <td>0.031023</td>\n",
       "      <td>0.028303</td>\n",
       "      <td>-0.067754</td>\n",
       "      <td>...</td>\n",
       "      <td>-0.024851</td>\n",
       "      <td>0.006007</td>\n",
       "      <td>-0.011446</td>\n",
       "      <td>0.042417</td>\n",
       "      <td>0.014036</td>\n",
       "      <td>-0.049536</td>\n",
       "      <td>0.001890</td>\n",
       "      <td>0.011664</td>\n",
       "      <td>21.950000</td>\n",
       "      <td>0.000000</td>\n",
       "    </tr>\n",
       "    <tr>\n",
       "      <th>75%</th>\n",
       "      <td>139215.250000</td>\n",
       "      <td>1.314801</td>\n",
       "      <td>0.834686</td>\n",
       "      <td>1.007704</td>\n",
       "      <td>0.798441</td>\n",
       "      <td>0.604570</td>\n",
       "      <td>0.395795</td>\n",
       "      <td>0.557633</td>\n",
       "      <td>0.344750</td>\n",
       "      <td>0.588573</td>\n",
       "      <td>...</td>\n",
       "      <td>0.192924</td>\n",
       "      <td>0.532145</td>\n",
       "      <td>0.145472</td>\n",
       "      <td>0.440141</td>\n",
       "      <td>0.346935</td>\n",
       "      <td>0.246329</td>\n",
       "      <td>0.094998</td>\n",
       "      <td>0.079820</td>\n",
       "      <td>76.000000</td>\n",
       "      <td>0.000000</td>\n",
       "    </tr>\n",
       "    <tr>\n",
       "      <th>max</th>\n",
       "      <td>172786.000000</td>\n",
       "      <td>2.412720</td>\n",
       "      <td>22.057729</td>\n",
       "      <td>4.069865</td>\n",
       "      <td>12.114672</td>\n",
       "      <td>24.345310</td>\n",
       "      <td>21.393069</td>\n",
       "      <td>34.303177</td>\n",
       "      <td>20.007208</td>\n",
       "      <td>7.937988</td>\n",
       "      <td>...</td>\n",
       "      <td>27.202839</td>\n",
       "      <td>8.361985</td>\n",
       "      <td>12.045536</td>\n",
       "      <td>3.695503</td>\n",
       "      <td>3.347936</td>\n",
       "      <td>3.004455</td>\n",
       "      <td>10.135597</td>\n",
       "      <td>15.769636</td>\n",
       "      <td>7712.430000</td>\n",
       "      <td>1.000000</td>\n",
       "    </tr>\n",
       "  </tbody>\n",
       "</table>\n",
       "<p>8 rows × 31 columns</p>\n",
       "</div>"
      ],
      "text/plain": [
       "                Time            V1            V2            V3            V4  \\\n",
       "count   28924.000000  28924.000000  28924.000000  28924.000000  28924.000000   \n",
       "mean    94597.165641     -0.063516      0.075994     -0.116809      0.083753   \n",
       "std     47526.033582      2.173112      1.697883      1.935877      1.546847   \n",
       "min         0.000000    -30.552380    -40.978852    -31.103685     -5.683171   \n",
       "25%     53988.250000     -0.940423     -0.579151     -0.962786     -0.824836   \n",
       "50%     84602.500000      0.008535      0.078486      0.152450      0.016759   \n",
       "75%    139215.250000      1.314801      0.834686      1.007704      0.798441   \n",
       "max    172786.000000      2.412720     22.057729      4.069865     12.114672   \n",
       "\n",
       "                 V5            V6            V7            V8            V9  \\\n",
       "count  28924.000000  28924.000000  28924.000000  28924.000000  28924.000000   \n",
       "mean      -0.054695     -0.016576     -0.078323      0.015787     -0.039995   \n",
       "std        1.556783      1.348886      1.649011      1.431676      1.170255   \n",
       "min      -32.092129    -17.118592    -43.557242    -41.484823    -13.434066   \n",
       "25%       -0.703097     -0.787944     -0.569843     -0.206605     -0.658765   \n",
       "50%       -0.062998     -0.290597      0.031023      0.028303     -0.067754   \n",
       "75%        0.604570      0.395795      0.557633      0.344750      0.588573   \n",
       "max       24.345310     21.393069     34.303177     20.007208      7.937988   \n",
       "\n",
       "           ...                V21           V22           V23           V24  \\\n",
       "count      ...       28924.000000  28924.000000  28924.000000  28924.000000   \n",
       "mean       ...           0.010800     -0.000310     -0.004370     -0.000643   \n",
       "std        ...           0.862053      0.742108      0.565251      0.605248   \n",
       "min        ...         -22.797604     -8.887017    -19.254328     -2.822684   \n",
       "25%        ...          -0.228051     -0.546631     -0.160934     -0.356201   \n",
       "50%        ...          -0.024851      0.006007     -0.011446      0.042417   \n",
       "75%        ...           0.192924      0.532145      0.145472      0.440141   \n",
       "max        ...          27.202839      8.361985     12.045536      3.695503   \n",
       "\n",
       "                V25           V26           V27           V28        Amount  \\\n",
       "count  28924.000000  28924.000000  28924.000000  28924.000000  28924.000000   \n",
       "mean      -0.000772      0.002518      0.002694      0.001286     87.285667   \n",
       "std        0.520625      0.481248      0.434112      0.345710    235.492046   \n",
       "min       -4.781606     -1.664130     -9.895244     -8.478686      0.000000   \n",
       "25%       -0.316206     -0.325299     -0.070677     -0.052643      5.390000   \n",
       "50%        0.014036     -0.049536      0.001890      0.011664     21.950000   \n",
       "75%        0.346935      0.246329      0.094998      0.079820     76.000000   \n",
       "max        3.347936      3.004455     10.135597     15.769636   7712.430000   \n",
       "\n",
       "              Class  \n",
       "count  28924.000000  \n",
       "mean       0.017010  \n",
       "std        0.129311  \n",
       "min        0.000000  \n",
       "25%        0.000000  \n",
       "50%        0.000000  \n",
       "75%        0.000000  \n",
       "max        1.000000  \n",
       "\n",
       "[8 rows x 31 columns]"
      ]
     },
     "execution_count": 6,
     "metadata": {},
     "output_type": "execute_result"
    }
   ],
   "source": [
    "data.describe()"
   ]
  },
  {
   "cell_type": "code",
   "execution_count": 7,
   "metadata": {},
   "outputs": [],
   "source": [
    "full_X = data.drop(columns=\"Class\")\n",
    "full_y = data[\"Class\"]"
   ]
  },
  {
   "cell_type": "markdown",
   "metadata": {},
   "source": [
    "Будем делать **красиво**:\n",
    "    \n",
    "    - отложим заранее из оригинальной выборки тестовую, размером 0.4\n",
    "    - будем выбирать модель кросс валидацией на выборке `train`\n",
    "    - не забудем про стратификацию"
   ]
  },
  {
   "cell_type": "code",
   "execution_count": 8,
   "metadata": {},
   "outputs": [],
   "source": [
    "from sklearn.model_selection import train_test_split\n",
    "\n",
    "full_X.reset_index(drop=True)\n",
    "\n",
    "tt_split = train_test_split(full_X, full_y, test_size=0.4, stratify=full_y)\n",
    "\n",
    "train_X, test_X, train_y, test_y = tt_split "
   ]
  },
  {
   "cell_type": "markdown",
   "metadata": {},
   "source": [
    "Будем делать **красиво**, выберем несколько метрик:\n",
    "    \n",
    "    1. стандартно `accuracy`, почему это плохо в нашем случае?\n",
    "    2. `precision_score` или доля истинных 1 среди всех помеченных как 1\n",
    "    3. `recall_score` или полнота \"вероятность\", с которой все истинные 1 предсказаны как 1\n",
    "    4. `fbeta_score` - частный случай которого, наш знакомый `f1_score` "
   ]
  },
  {
   "cell_type": "code",
   "execution_count": 10,
   "metadata": {},
   "outputs": [],
   "source": [
    "from sklearn.metrics import accuracy_score, precision_score, recall_score, fbeta_score, f1_score"
   ]
  },
  {
   "cell_type": "code",
   "execution_count": 11,
   "metadata": {},
   "outputs": [],
   "source": [
    "f1_score?"
   ]
  },
  {
   "cell_type": "code",
   "execution_count": 12,
   "metadata": {},
   "outputs": [],
   "source": [
    "fbeta_score?"
   ]
  },
  {
   "cell_type": "markdown",
   "metadata": {},
   "source": [
    "Зачем нам $\\beta$ ? : https://en.wikipedia.org/wiki/F1_score\n",
    "\n",
    "Возьмем $\\beta = .17$ как будто, мы заранее знаем, сколько нам ожидать фрода в выборке."
   ]
  },
  {
   "cell_type": "code",
   "execution_count": 13,
   "metadata": {},
   "outputs": [],
   "source": [
    "def show_metrics(y_true, y_pred):\n",
    "    return pd.Series(\n",
    "        {\n",
    "        \"accuracy\": accuracy_score(y_true, y_pred),\n",
    "        \n",
    "        \"precision\": precision_score(y_true, y_pred),\n",
    "        \n",
    "        \"recall\": recall_score(y_true, y_pred),\n",
    "        \n",
    "        \"f1_score\": f1_score(y_true, y_pred),\n",
    "        \n",
    "        \"f_0.2\": fbeta_score(y_true, y_pred, beta=.17),\n",
    "    }\n",
    ")"
   ]
  },
  {
   "cell_type": "markdown",
   "metadata": {},
   "source": [
    "## Обнаружение выбросов"
   ]
  },
  {
   "cell_type": "code",
   "execution_count": 14,
   "metadata": {
    "slideshow": {
     "slide_type": "skip"
    }
   },
   "outputs": [],
   "source": [
    "from sklearn.metrics import precision_recall_curve, roc_curve\n",
    "\n",
    "def plot_level_lines(model, data, size=100):\n",
    "    def _expand(a, b, frac=.5, margin=1.):\n",
    "        return a - abs(a) * frac - margin, b + abs(b) * frac + margin\n",
    "\n",
    "    # Вспомогательная функция для рисования линий уровня и набора точек\n",
    "    plt.figure(figsize=(10, 7))\n",
    "    min_x, min_y = data.min(axis=0)\n",
    "    max_x, max_y = data.max(axis=0)\n",
    "    min_x, max_x = _expand(min_x, max_x)\n",
    "    min_y, max_y = _expand(min_y, max_y)\n",
    "\n",
    "    # создаём регулярную сетку для контуров\n",
    "    all_x = np.linspace(min_x, max_x, num=size)\n",
    "    all_y = np.linspace(min_y, max_y, num=size)\n",
    "    XX, YY = np.meshgrid(all_x, all_y)\n",
    "    test_data = np.c_[XX.ravel(), YY.ravel()]\n",
    "\n",
    "    # опрашиваем предсказания модели\n",
    "    try:\n",
    "        predictions = model.decision_function(test_data).reshape(size, size)\n",
    "        data_scores = model.predict(data)\n",
    "        anomaly_scores = model.decision_function(data)\n",
    "\n",
    "    except AttributeError:\n",
    "        predictions = model._decision_function(test_data).reshape(size, size)\n",
    "        data_scores = model._predict(data)\n",
    "        anomaly_scores = model._decision_function(data)\n",
    "\n",
    "    # создаём график контуров с заливкоц\n",
    "    plt.contourf(all_x, all_y, predictions, cmap=plt.cm.coolwarm)\n",
    "\n",
    "    # отображаем границу принятия решений\n",
    "    threshold = anomaly_scores[data_scores==1.0].min()\n",
    "    plt.contour(XX, YY, predictions, levels=[threshold], linewidths=2, colors='darkred')\n",
    "\n",
    "    # нарисуем точки выборки\n",
    "    plt.scatter(data[:, 0], data[:, 1])\n",
    "\n",
    "    axes = plt.gca()\n",
    "    axes.set_xlim([min_x,max_x])\n",
    "    axes.set_ylim([min_y,max_y])\n",
    "\n",
    "    plt.show()\n",
    "    plt.close()"
   ]
  },
  {
   "cell_type": "markdown",
   "metadata": {},
   "source": [
    "Эта процедура рисует кривые ROC"
   ]
  },
  {
   "cell_type": "code",
   "execution_count": 15,
   "metadata": {},
   "outputs": [],
   "source": [
    "from sklearn.metrics import precision_recall_curve, roc_curve\n",
    "\n",
    "\n",
    "def plot_results(y_test, probabilities):\n",
    "    # построим кривые ROC и PR\n",
    "    fpr, tpr, _ = roc_curve(y_test, probabilities)\n",
    "    \n",
    "    # roc\n",
    "    plt.plot(fpr, tpr, linewidth=3)\n",
    "    plt.xlabel('FPR')\n",
    "    plt.ylabel('TPR')\n",
    "\n",
    "    plt.grid(True)\n",
    "    plt.show()"
   ]
  },
  {
   "cell_type": "markdown",
   "metadata": {},
   "source": [
    "Создаём несколько скоплений точек и подмешиваем аномальных точек"
   ]
  },
  {
   "cell_type": "code",
   "execution_count": 18,
   "metadata": {
    "slideshow": {
     "slide_type": "skip"
    }
   },
   "outputs": [],
   "source": [
    "from sklearn.datasets import make_blobs\n",
    "\n",
    "\n",
    "def data_generator(n_samples=100, anomaly_fraction=0.1, n_features=2):\n",
    "    n_anomaly = int(n_samples * anomaly_fraction)\n",
    "    n_normal = n_samples - n_anomaly\n",
    "\n",
    "    normal_data, _ = make_blobs(n_normal, n_features=n_features, centers=3)\n",
    "\n",
    "    anomaly_data = np.random.rand(n_anomaly, n_features)\n",
    "\n",
    "    nrm_min = normal_data.min(axis=0).reshape(1, -1)\n",
    "    nrm_ptp = normal_data.ptp(axis=0).reshape(1, -1)\n",
    "    anomaly_data = anomaly_data * nrm_ptp + nrm_min\n",
    "\n",
    "    return np.concatenate([normal_data, anomaly_data], axis=0)"
   ]
  },
  {
   "cell_type": "markdown",
   "metadata": {},
   "source": [
    "Создаём одно скопление точек, к которому подмешаны аномалии"
   ]
  },
  {
   "cell_type": "code",
   "execution_count": 19,
   "metadata": {
    "slideshow": {
     "slide_type": "skip"
    }
   },
   "outputs": [],
   "source": [
    "def unimodal_data_generator(n_samples=100, anomaly_fraction=0.1, n_features=2):\n",
    "    n_anomaly = int(n_samples * anomaly_fraction)\n",
    "    n_normal = n_samples - n_anomaly\n",
    "\n",
    "    xform = np.array([[2, 0.5], [0.5, 1.5]])\n",
    "    normal_data = np.random.randn(n_normal, n_features) @ xform\n",
    "    anomaly_data = np.random.rand(n_anomaly, n_features)\n",
    "\n",
    "    nrm_min = normal_data.min(axis=0).reshape(1, -1)\n",
    "    nrm_ptp = normal_data.ptp(axis=0).reshape(1, -1)\n",
    "    anomaly_data = anomaly_data * nrm_ptp + nrm_min\n",
    "\n",
    "    return np.concatenate([normal_data, anomaly_data], axis=0)"
   ]
  },
  {
   "cell_type": "markdown",
   "metadata": {},
   "source": [
    "Сгенерируем данные"
   ]
  },
  {
   "cell_type": "code",
   "execution_count": 20,
   "metadata": {
    "slideshow": {
     "slide_type": "slide"
    }
   },
   "outputs": [],
   "source": [
    "data_blob = unimodal_data_generator()\n",
    "\n",
    "data_blobs = data_generator()"
   ]
  },
  {
   "cell_type": "markdown",
   "metadata": {},
   "source": [
    "<br>"
   ]
  },
  {
   "cell_type": "markdown",
   "metadata": {
    "slideshow": {
     "slide_type": "slide"
    }
   },
   "source": [
    "### Эллиптическая Огибающая\n",
    "\n",
    "Метод **Elliptic Envelope** оценивая ковариацию данныхпредполагает, что \n",
    "* данные порожденные эллиптическим распределением\n",
    "\n",
    "* аномальные точки находятся дальше от центра скопления, чем нормальные"
   ]
  },
  {
   "cell_type": "code",
   "execution_count": 21,
   "metadata": {
    "slideshow": {
     "slide_type": "slide"
    }
   },
   "outputs": [],
   "source": [
    "from sklearn.covariance import EllipticEnvelope"
   ]
  },
  {
   "cell_type": "code",
   "execution_count": 22,
   "metadata": {},
   "outputs": [],
   "source": [
    "def cluster_plot(y_test, probas):\n",
    "    # Fit the model\n",
    "    plt.figure(figsize=(9, 7))\n",
    "\n",
    "\n",
    "    clf.fit(X)\n",
    "    scores_pred = clf.decision_function(X)\n",
    "    y_pred = clf.predict(X)\n",
    "    threshold = stats.scoreatpercentile(scores_pred, 100 * outliers_fraction)\n",
    "    n_errors = (y_pred != ground_truth).sum()\n",
    "\n",
    "    # plot the levels lines and the points\n",
    "    Z = clf.decision_function(np.c_[xx.ravel(), yy.ravel()])\n",
    "    Z = Z.reshape(xx.shape)\n",
    "\n",
    "    plt.contourf(xx, yy, Z, levels=np.linspace(Z.min(), threshold, 7),\n",
    "                     cmap=plt.cm.Blues_r)\n",
    "    a = plt.contour(xx, yy, Z, levels=[threshold],\n",
    "                        linewidths=2, colors='red')\n",
    "    plt.contourf(xx, yy, Z, levels=[threshold, Z.max()],\n",
    "                     colors='orange')\n",
    "    b = plt.scatter(X[:-n_outliers, 0], X[:-n_outliers, 1], c='white',\n",
    "                        s=20, edgecolor='k')\n",
    "    c = plt.scatter(X[-n_outliers:, 0], X[-n_outliers:, 1], c='black',\n",
    "                        s=20, edgecolor='k')\n",
    "    plt.axis('tight')\n",
    "    plt.legend(\n",
    "        [a.collections[0], b, c],\n",
    "        ['learned decision function', 'true inliers', 'true outliers'],\n",
    "        prop=matplotlib.font_manager.FontProperties(size=10),\n",
    "        loc='lower right')\n",
    "    plt.xlabel(\"%d. %s (errors: %d)\" % (i + 1, 'Elliptic Envelope', n_errors))\n",
    "    plt.xlim((-7, 7))\n",
    "    plt.ylim((-7, 7))\n",
    "    plt.suptitle(\"Outlier detection via Elliptic Envelope\")\n",
    "\n",
    "plt.show()"
   ]
  },
  {
   "cell_type": "code",
   "execution_count": 24,
   "metadata": {
    "slideshow": {
     "slide_type": "slide"
    }
   },
   "outputs": [
    {
     "data": {
      "image/png": "[encoded data removed]",
      "text/plain": [
       "<Figure size 720x504 with 1 Axes>"
      ]
     },
     "metadata": {
      "needs_background": "light"
     },
     "output_type": "display_data"
    }
   ],
   "source": [
    "model = EllipticEnvelope(assume_centered=False, contamination=0.1)\n",
    "\n",
    "model.fit(data_blob)\n",
    "\n",
    "plot_level_lines(model, data_blob)"
   ]
  },
  {
   "cell_type": "code",
   "execution_count": 26,
   "metadata": {
    "slideshow": {
     "slide_type": "slide"
    }
   },
   "outputs": [
    {
     "data": {
      "image/png": "[encoded data removed]",
      "text/plain": [
       "<Figure size 720x504 with 1 Axes>"
      ]
     },
     "metadata": {
      "needs_background": "light"
     },
     "output_type": "display_data"
    }
   ],
   "source": [
    "model = EllipticEnvelope(assume_centered=False, contamination=0.1)\n",
    "\n",
    "model.fit(data_blobs)\n",
    "\n",
    "plot_level_lines(model, data_blobs)"
   ]
  },
  {
   "cell_type": "markdown",
   "metadata": {
    "slideshow": {
     "slide_type": "slide"
    }
   },
   "source": [
    "Плюсы:\n",
    "* простой в использовании метод\n",
    "* порождает интерпретируемую границу"
   ]
  },
  {
   "cell_type": "markdown",
   "metadata": {
    "slideshow": {
     "slide_type": "slide"
    }
   },
   "source": [
    "Минусы:\n",
    "* Годится только для **одномодальных** распределений\n",
    "* Подвержен вырождению ковариационной матрицы"
   ]
  },
  {
   "cell_type": "markdown",
   "metadata": {},
   "source": [
    "Посмотрим на его работу в обнаружении мошенничества"
   ]
  },
  {
   "cell_type": "code",
   "execution_count": 29,
   "metadata": {},
   "outputs": [],
   "source": [
    "model = EllipticEnvelope()\n",
    "\n",
    "model.fit(train_X)\n",
    "\n",
    "predictions_elliptic = -model.decision_function(test_X)\n",
    "\n",
    "labels_elliptic = model.predict(test_X)"
   ]
  },
  {
   "cell_type": "code",
   "execution_count": 30,
   "metadata": {},
   "outputs": [
    {
     "data": {
      "image/png": "[encoded data removed]",
      "text/plain": [
       "<Figure size 432x288 with 1 Axes>"
      ]
     },
     "metadata": {
      "needs_background": "light"
     },
     "output_type": "display_data"
    }
   ],
   "source": [
    "plot_results(test_y, predictions_elliptic)\n",
    "\n",
    "metrics_elliptic = show_metrics(test_y, (labels_elliptic < 0) * 1)"
   ]
  },
  {
   "cell_type": "markdown",
   "metadata": {},
   "source": [
    "<br>"
   ]
  },
  {
   "cell_type": "markdown",
   "metadata": {
    "slideshow": {
     "slide_type": "slide"
    }
   },
   "source": [
    "### Изолирующий Лес (Isolation Forest)\n",
    "\n",
    "* для каждого наблюдения рассчитывается средняя длина пути до него в случайном дереве\n",
    "  * деревья со случайными разбиениями с целью изолировать наблюдения\n",
    "  \n",
    "* чем короче средняя длина пути тем проще описать наблюдение\n",
    "  * тем в более изолированной части пространства оно находится\n",
    "\n",
    "* чем больше разбиений нужно для наблюдения, нормальнее оно"
   ]
  },
  {
   "cell_type": "code",
   "execution_count": 31,
   "metadata": {},
   "outputs": [],
   "source": [
    "from sklearn.ensemble import IsolationForest"
   ]
  },
  {
   "cell_type": "code",
   "execution_count": 32,
   "metadata": {
    "slideshow": {
     "slide_type": "slide"
    }
   },
   "outputs": [
    {
     "data": {
      "image/png": "[encoded data removed]",
      "text/plain": [
       "<Figure size 720x504 with 1 Axes>"
      ]
     },
     "metadata": {
      "needs_background": "light"
     },
     "output_type": "display_data"
    }
   ],
   "source": [
    "model = IsolationForest(n_estimators=100,\n",
    "                        contamination=0.1,\n",
    "                        max_features=1.0,\n",
    "                        max_samples=1.0,\n",
    "                        bootstrap=True,\n",
    "                        random_state=0)\n",
    "model.fit(data_blob)\n",
    "\n",
    "plot_level_lines(model, data_blob)"
   ]
  },
  {
   "cell_type": "markdown",
   "metadata": {},
   "source": [
    "Несколько скоплений"
   ]
  },
  {
   "cell_type": "code",
   "execution_count": 33,
   "metadata": {
    "slideshow": {
     "slide_type": "slide"
    }
   },
   "outputs": [
    {
     "data": {
      "image/png": "[encoded data removed]",
      "text/plain": [
       "<Figure size 720x504 with 1 Axes>"
      ]
     },
     "metadata": {
      "needs_background": "light"
     },
     "output_type": "display_data"
    }
   ],
   "source": [
    "model = IsolationForest(n_estimators=100,\n",
    "                        contamination=0.1,\n",
    "                        max_features=1.0,\n",
    "                        max_samples=1.0,\n",
    "                        bootstrap=True,\n",
    "                        random_state=0)\n",
    "model.fit(data_blobs)\n",
    "\n",
    "plot_level_lines(model, data_blobs)"
   ]
  },
  {
   "cell_type": "markdown",
   "metadata": {
    "slideshow": {
     "slide_type": "slide"
    }
   },
   "source": [
    "Плюсы:\n",
    "\n",
    "* Робастный метод"
   ]
  },
  {
   "cell_type": "markdown",
   "metadata": {
    "slideshow": {
     "slide_type": "slide"
    }
   },
   "source": [
    "Минусы:\n",
    "* плохая интерпертация\n",
    "\n",
    "* не различает скопления аномалий"
   ]
  },
  {
   "cell_type": "code",
   "execution_count": 34,
   "metadata": {},
   "outputs": [],
   "source": [
    "model = IsolationForest()\n",
    "\n",
    "model.fit(train_X)\n",
    "\n",
    "predictions_isolation = -model.decision_function(test_X)\n",
    "\n",
    "labels_isolation = model.predict(test_X)"
   ]
  },
  {
   "cell_type": "code",
   "execution_count": 35,
   "metadata": {},
   "outputs": [
    {
     "data": {
      "image/png": "[encoded data removed]",
      "text/plain": [
       "<Figure size 432x288 with 1 Axes>"
      ]
     },
     "metadata": {
      "needs_background": "light"
     },
     "output_type": "display_data"
    }
   ],
   "source": [
    "plot_results(test_y, predictions_isolation)\n",
    "\n",
    "metrics_isolation = show_metrics(test_y, (labels_isolation < 0) * 1)"
   ]
  },
  {
   "cell_type": "markdown",
   "metadata": {},
   "source": [
    "<br>"
   ]
  },
  {
   "cell_type": "markdown",
   "metadata": {
    "slideshow": {
     "slide_type": "slide"
    }
   },
   "source": [
    "## Local Outlier Factor\n",
    "\n",
    "Основан на наблюдении, что нормальные наблюдения имеют тенденцию **скапливаться**\n",
    "\n",
    "* вводится показатель локальной плотности, обратно пропорциональный средним расстоянием до $k$ ближайших соседей\n",
    "\n",
    "* попарно сравнивается с показателями соседей\n",
    "\n",
    "* вычисляется отношение локальной аномальности"
   ]
  },
  {
   "cell_type": "markdown",
   "metadata": {},
   "source": [
    "Метод: https://towardsdatascience.com/local-outlier-factor-for-anomaly-detection-cc0c770d2ebe"
   ]
  },
  {
   "cell_type": "code",
   "execution_count": 36,
   "metadata": {},
   "outputs": [],
   "source": [
    "from sklearn.neighbors import LocalOutlierFactor"
   ]
  },
  {
   "cell_type": "markdown",
   "metadata": {
    "slideshow": {
     "slide_type": "fragment"
    }
   },
   "source": [
    "![img](https://upload.wikimedia.org/wikipedia/commons/thumb/5/59/LOF.svg/400px-LOF.svg.png)"
   ]
  },
  {
   "cell_type": "code",
   "execution_count": 37,
   "metadata": {
    "slideshow": {
     "slide_type": "slide"
    }
   },
   "outputs": [
    {
     "data": {
      "image/png": "[encoded data removed]",
      "text/plain": [
       "<Figure size 720x504 with 1 Axes>"
      ]
     },
     "metadata": {
      "needs_background": "light"
     },
     "output_type": "display_data"
    }
   ],
   "source": [
    "model = LocalOutlierFactor(n_neighbors=20, \n",
    "                           contamination=0.1,\n",
    "                           metric='minkowski', \n",
    "                           p=2)\n",
    "model.fit(data_blob)\n",
    "\n",
    "plot_level_lines(model, data_blob)"
   ]
  },
  {
   "cell_type": "code",
   "execution_count": 38,
   "metadata": {
    "slideshow": {
     "slide_type": "slide"
    }
   },
   "outputs": [
    {
     "data": {
      "image/png": "[encoded data removed]",
      "text/plain": [
       "<Figure size 720x504 with 1 Axes>"
      ]
     },
     "metadata": {
      "needs_background": "light"
     },
     "output_type": "display_data"
    }
   ],
   "source": [
    "model = LocalOutlierFactor(n_neighbors=20, \n",
    "                           contamination=0.1,\n",
    "                           metric='minkowski', \n",
    "                           p=2)\n",
    "model.fit(data_blobs)\n",
    "\n",
    "plot_level_lines(model, data_blobs)"
   ]
  },
  {
   "cell_type": "markdown",
   "metadata": {
    "slideshow": {
     "slide_type": "slide"
    }
   },
   "source": [
    "Плюсы:\n",
    "* непараметрический метод"
   ]
  },
  {
   "cell_type": "markdown",
   "metadata": {
    "slideshow": {
     "slide_type": "slide"
    }
   },
   "source": [
    "Минусы:\n",
    "* подвержен проблеме \"проклятия размерности\", тк основан на расстояниях\n",
    "* не может отличить скопления аномалий от нормальных точек\n",
    "* без модификаций не поддерживает проверку аномальности на новых данных без обучения"
   ]
  },
  {
   "cell_type": "code",
   "execution_count": 39,
   "metadata": {},
   "outputs": [],
   "source": [
    "model = LocalOutlierFactor()\n",
    "\n",
    "model.fit(train_X)\n",
    "\n",
    "predictions_lof = -model._decision_function(test_X)\n",
    "\n",
    "labels_lof = -predictions_lof"
   ]
  },
  {
   "cell_type": "code",
   "execution_count": 40,
   "metadata": {},
   "outputs": [
    {
     "data": {
      "image/png": "[encoded data removed]",
      "text/plain": [
       "<Figure size 432x288 with 1 Axes>"
      ]
     },
     "metadata": {
      "needs_background": "light"
     },
     "output_type": "display_data"
    },
    {
     "data": {
      "text/plain": [
       "accuracy     0.017027\n",
       "precision    0.017027\n",
       "recall       1.000000\n",
       "f1_score     0.033483\n",
       "f_0.2        0.017510\n",
       "dtype: float64"
      ]
     },
     "execution_count": 40,
     "metadata": {},
     "output_type": "execute_result"
    }
   ],
   "source": [
    "plot_results(test_y, predictions_lof)\n",
    "\n",
    "show_metrics(test_y, (labels_lof < 0) * 1)"
   ]
  },
  {
   "cell_type": "markdown",
   "metadata": {
    "slideshow": {
     "slide_type": "slide"
    }
   },
   "source": [
    "## One Class SVM\n",
    "\n",
    "Основная идея -- отделить данные в спрямляющем пространстве **мягкой гиперплоскостью** от нуля\n",
    "\n",
    "Решает задачу\n",
    "\\begin{aligned}\n",
    "  & \\underset{\\rho, f\\in \\mathcal{H}}{\\text{минимизировать}}\n",
    "    & & \\tfrac12 \\|f\\|^2 - \\rho\n",
    "        + \\tfrac1{m \\nu} \\sum_{i=1}^m \\max\\bigl\\{\n",
    "            0, \\rho - f(x_i) \\bigr\\}\\,,\n",
    "\\end{aligned}"
   ]
  },
  {
   "cell_type": "markdown",
   "metadata": {
    "scrolled": true
   },
   "source": [
    "Визуализация одноклассового метода опорных векторов: http://rvlasveld.github.io/blog/2013/07/12/introduction-to-one-class-support-vector-machines/"
   ]
  },
  {
   "cell_type": "markdown",
   "metadata": {},
   "source": [
    "Визуализация `gamma` для `rbf` ядра: https://bitquill.net/blog/quick-hack-visualizing-rbf-bandwidth/"
   ]
  },
  {
   "cell_type": "code",
   "execution_count": 41,
   "metadata": {},
   "outputs": [],
   "source": [
    "from sklearn.svm import OneClassSVM"
   ]
  },
  {
   "cell_type": "code",
   "execution_count": 45,
   "metadata": {
    "slideshow": {
     "slide_type": "slide"
    }
   },
   "outputs": [
    {
     "data": {
      "image/png": "[encoded data removed]",
      "text/plain": [
       "<Figure size 720x504 with 1 Axes>"
      ]
     },
     "metadata": {
      "needs_background": "light"
     },
     "output_type": "display_data"
    }
   ],
   "source": [
    "model = OneClassSVM(nu=0.1, kernel='rbf', gamma=0.1)\n",
    "\n",
    "model.fit(data_blobs)\n",
    "\n",
    "plot_level_lines(model, data_blobs)"
   ]
  },
  {
   "cell_type": "code",
   "execution_count": 44,
   "metadata": {
    "slideshow": {
     "slide_type": "slide"
    }
   },
   "outputs": [
    {
     "data": {
      "image/png": "[encoded data removed]",
      "text/plain": [
       "<Figure size 720x504 with 1 Axes>"
      ]
     },
     "metadata": {
      "needs_background": "light"
     },
     "output_type": "display_data"
    }
   ],
   "source": [
    "model = OneClassSVM(nu=0.1, kernel='rbf', gamma=0.1)\n",
    "\n",
    "model.fit(data_blob)\n",
    "\n",
    "plot_level_lines(model, data_blob)"
   ]
  },
  {
   "cell_type": "markdown",
   "metadata": {
    "slideshow": {
     "slide_type": "slide"
    }
   },
   "source": [
    "Плюсы:\n",
    "* непараметрический метод\n",
    "* применим не только к объектам из $\\mathbb{R}^n$ (линейного пространства)\n",
    "  * ядра на строках, графах и пр.\n",
    "* может быть полезным при разумном выборе ядра"
   ]
  },
  {
   "cell_type": "markdown",
   "metadata": {
    "slideshow": {
     "slide_type": "slide"
    }
   },
   "source": [
    "Минусы:\n",
    "* вычислительно затратен и плохо масштабируется\n",
    "* необходимо хранить часть обучающей выборки"
   ]
  },
  {
   "cell_type": "code",
   "execution_count": 46,
   "metadata": {},
   "outputs": [
    {
     "data": {
      "text/plain": [
       "(17354, 30)"
      ]
     },
     "execution_count": 46,
     "metadata": {},
     "output_type": "execute_result"
    }
   ],
   "source": [
    "train_X.shape"
   ]
  },
  {
   "cell_type": "code",
   "execution_count": 49,
   "metadata": {},
   "outputs": [],
   "source": [
    "model = OneClassSVM()\n",
    "\n",
    "model.fit(train_X)\n",
    "\n",
    "predictions_svm = -model.decision_function(test_X)\n",
    "\n",
    "labels_svm = model.predict(test_X)"
   ]
  },
  {
   "cell_type": "code",
   "execution_count": 50,
   "metadata": {},
   "outputs": [
    {
     "data": {
      "image/png": "[encoded data removed]",
      "text/plain": [
       "<Figure size 432x288 with 1 Axes>"
      ]
     },
     "metadata": {
      "needs_background": "light"
     },
     "output_type": "display_data"
    }
   ],
   "source": [
    "plot_results(test_y, predictions_svm)\n",
    "\n",
    "metrics_svm = show_metrics(test_y, (labels_svm < 0) * 1)"
   ]
  },
  {
   "cell_type": "markdown",
   "metadata": {},
   "source": [
    "<br>"
   ]
  },
  {
   "cell_type": "markdown",
   "metadata": {
    "slideshow": {
     "slide_type": "slide"
    }
   },
   "source": [
    "## Обнаружение аномалий методом PCA\n"
   ]
  },
  {
   "cell_type": "code",
   "execution_count": 51,
   "metadata": {},
   "outputs": [],
   "source": [
    "from sklearn.decomposition import PCA"
   ]
  },
  {
   "cell_type": "code",
   "execution_count": 52,
   "metadata": {
    "slideshow": {
     "slide_type": "skip"
    }
   },
   "outputs": [],
   "source": [
    "from sklearn.base import BaseEstimator\n",
    "from sklearn.decomposition import PCA\n",
    "\n",
    "\n",
    "class PCAAnomalyDetector(BaseEstimator):\n",
    "    def __init__(self, n_components=2, contamination=0.1):\n",
    "        self.n_components = n_components\n",
    "        self.contamination = contamination\n",
    "    \n",
    "    def fit(self, data):\n",
    "        self.pca_model_ = PCA(n_components=self.n_components)\n",
    "        self.pca_model_.fit(data)\n",
    "\n",
    "        low_dim_data = self.pca_model_.transform(data)\n",
    "        new_data = self.pca_model_.inverse_transform(low_dim_data)\n",
    "\n",
    "        distances = np.linalg.norm(data - new_data, axis=1)\n",
    "\n",
    "        self.threshold_ = -np.percentile(distances, 100 - self.contamination * 100)\n",
    "\n",
    "        return self\n",
    "        \n",
    "    def decision_function(self, data):\n",
    "        low_dim_data = self.pca_model_.transform(data)\n",
    "        new_data = self.pca_model_.inverse_transform(low_dim_data)\n",
    "\n",
    "        return - np.linalg.norm(data - new_data, axis=1)\n",
    "    \n",
    "    def predict(self, data):\n",
    "        scores = self.decision_function(data)\n",
    "        return np.where(scores > self.threshold_, +1, -1)"
   ]
  },
  {
   "cell_type": "code",
   "execution_count": 53,
   "metadata": {},
   "outputs": [
    {
     "data": {
      "image/png": "[encoded data removed]",
      "text/plain": [
       "<Figure size 720x504 with 1 Axes>"
      ]
     },
     "metadata": {
      "needs_background": "light"
     },
     "output_type": "display_data"
    }
   ],
   "source": [
    "model = PCAAnomalyDetector(n_components=1)\n",
    "model.fit(data_blobs)\n",
    "\n",
    "plot_level_lines(model, data_blobs)"
   ]
  },
  {
   "cell_type": "markdown",
   "metadata": {},
   "source": [
    "Плюсы:\n",
    "  * простой метод"
   ]
  },
  {
   "cell_type": "markdown",
   "metadata": {},
   "source": [
    "Минусы:\n",
    "  * использует линейную аппроксимацию данных"
   ]
  },
  {
   "cell_type": "code",
   "execution_count": 54,
   "metadata": {},
   "outputs": [],
   "source": [
    "model = PCAAnomalyDetector(n_components=12, contamination=0.01)\n",
    "\n",
    "model.fit(train_X)\n",
    "predictions_pca = -model.decision_function(test_X)\n",
    "\n",
    "labels_pca = model.predict(test_X)"
   ]
  },
  {
   "cell_type": "code",
   "execution_count": 55,
   "metadata": {},
   "outputs": [
    {
     "data": {
      "image/png": "[encoded data removed]",
      "text/plain": [
       "<Figure size 432x288 with 1 Axes>"
      ]
     },
     "metadata": {
      "needs_background": "light"
     },
     "output_type": "display_data"
    }
   ],
   "source": [
    "plot_results(test_y, predictions_pca)\n",
    "\n",
    "metrics_pca = show_metrics(test_y, (labels_pca < 0) * 1)"
   ]
  },
  {
   "cell_type": "markdown",
   "metadata": {},
   "source": [
    "<br>"
   ]
  },
  {
   "cell_type": "markdown",
   "metadata": {},
   "source": [
    "## Бинарная классификация"
   ]
  },
  {
   "cell_type": "markdown",
   "metadata": {},
   "source": [
    "Воспользуемся логистической регрессией"
   ]
  },
  {
   "cell_type": "code",
   "execution_count": 56,
   "metadata": {
    "slideshow": {
     "slide_type": "skip"
    }
   },
   "outputs": [],
   "source": [
    "from sklearn.linear_model import LogisticRegression\n",
    "\n",
    "\n",
    "estimator = LogisticRegression(class_weight=None)\n",
    "\n",
    "grid = {\n",
    "    \"C\" : np.logspace(-3, +3, num=10)\n",
    "}"
   ]
  },
  {
   "cell_type": "markdown",
   "metadata": {},
   "source": [
    "Будем стараться честно построить модель"
   ]
  },
  {
   "cell_type": "code",
   "execution_count": 57,
   "metadata": {},
   "outputs": [],
   "source": [
    "from sklearn.model_selection import GridSearchCV\n",
    "\n",
    "from sklearn.metrics import make_scorer\n",
    "\n",
    "f1_scorer = make_scorer(f1_score)"
   ]
  },
  {
   "cell_type": "markdown",
   "metadata": {},
   "source": [
    "Будем использовать модификацию $k$-fold валидации, которая **специально сохраняет баланс**\n",
    "классов -- так называемый стратифицированный $k$-fold."
   ]
  },
  {
   "cell_type": "code",
   "execution_count": 58,
   "metadata": {},
   "outputs": [],
   "source": [
    "from sklearn.model_selection import StratifiedKFold\n",
    "\n",
    "st_kfold = StratifiedKFold(n_splits=5)"
   ]
  },
  {
   "cell_type": "markdown",
   "metadata": {},
   "source": [
    "Оценим лог-регрессию с кросс валидацией"
   ]
  },
  {
   "cell_type": "code",
   "execution_count": 60,
   "metadata": {
    "slideshow": {
     "slide_type": "slide"
    }
   },
   "outputs": [],
   "source": [
    "cv_grid = GridSearchCV(estimator, grid, scoring=f1_scorer, cv=st_kfold, n_jobs=1)\n",
    "\n",
    "cv_grid.fit(train_X, train_y) ;"
   ]
  },
  {
   "cell_type": "markdown",
   "metadata": {},
   "source": [
    "Оценим метрики для самой лучшей модели по валидации"
   ]
  },
  {
   "cell_type": "code",
   "execution_count": 61,
   "metadata": {},
   "outputs": [],
   "source": [
    "logistic_naive = cv_grid.best_estimator_\n",
    "\n",
    "logistic_naive_test_pred = logistic_naive.predict(test_X)\n",
    "\n",
    "metrics_logistic_naive = show_metrics(test_y, logistic_naive_test_pred)"
   ]
  },
  {
   "cell_type": "code",
   "execution_count": 62,
   "metadata": {},
   "outputs": [
    {
     "data": {
      "text/plain": [
       "accuracy     0.992999\n",
       "precision    0.891892\n",
       "recall       0.670051\n",
       "f1_score     0.765217\n",
       "f_0.2        0.883674\n",
       "dtype: float64"
      ]
     },
     "execution_count": 62,
     "metadata": {},
     "output_type": "execute_result"
    }
   ],
   "source": [
    "metrics_logistic_naive"
   ]
  },
  {
   "cell_type": "markdown",
   "metadata": {},
   "source": [
    "Можно ли улучшить `precision` и `recall`?"
   ]
  },
  {
   "cell_type": "markdown",
   "metadata": {},
   "source": [
    "<br>"
   ]
  },
  {
   "cell_type": "markdown",
   "metadata": {},
   "source": [
    "### Балансировка и Ресэмплинг"
   ]
  },
  {
   "cell_type": "markdown",
   "metadata": {},
   "source": [
    "#### Балансировка лосса"
   ]
  },
  {
   "cell_type": "markdown",
   "metadata": {},
   "source": [
    "В базовом (\"наивном\") случае лог-регрессия использует лог лосс:\n",
    "* на выборке $(x_i, y_i)_{i=1}^m$ с $y_i \\in \\{\\pm 1\\}$ решается задача\n",
    "\\begin{aligned}\n",
    "  & \\underset{\\beta_0, \\beta}{\\text{минимизировать}}\n",
    "    & & \\tfrac12 \\|\\beta\\|_2^2\n",
    "        + C \\sum_{i=1}^m l\\bigl(y_i, f(x_i)\\bigr)\n",
    "        \\,, \\\\\n",
    "  & & & l(y, p) = \\log \\bigl(1 + \\exp\\{- y p \\}\\bigr)\n",
    "        \\,, \\\\\n",
    "  & & & f(x) = x^{\\rm T} \\beta + \\beta_0\n",
    "\\end{aligned}"
   ]
  },
  {
   "cell_type": "markdown",
   "metadata": {},
   "source": [
    "Но можно минимизировать функцию потерь, взвешенный по меткам класса:\n",
    "\\begin{aligned}\n",
    "  & \\underset{\\beta_0, \\beta}{\\text{минимизировать}}\n",
    "    & & \\tfrac12 \\|\\beta\\|_2^2\n",
    "        + C w_+ \\sum_{i\\colon y_i = +1} l\\bigl(+1, f(x_i)\\bigr)\n",
    "        + C w_- \\sum_{i\\colon y_i = -1} l\\bigl(-1, f(x_i)\\bigr)\n",
    "        \\,, \\\\\n",
    "  & & & l(y, p) = \\log \\bigl(1 + \\exp\\{- y p \\}\\bigr)\n",
    "        \\,, \\\\\n",
    "  & & & f(x) = x^{\\rm T} \\beta + \\beta_0\n",
    "\\end{aligned}"
   ]
  },
  {
   "cell_type": "markdown",
   "metadata": {},
   "source": [
    "* в случае \"наивного\" взвешивания $w_+ = w_- = 1$."
   ]
  },
  {
   "cell_type": "markdown",
   "metadata": {},
   "source": [
    "* в случае \"сбалансированного\" взвешивания $w_+ = \\tfrac{m}{2 n_+}$ и $w_- = \\tfrac{m}{2 n_-}$."
   ]
  },
  {
   "cell_type": "code",
   "execution_count": 63,
   "metadata": {},
   "outputs": [],
   "source": [
    "estimator = LogisticRegression(class_weight = \"balanced\")\n",
    "\n",
    "cv_grid = GridSearchCV(estimator, grid, scoring=f1_scorer, cv = st_kfold, n_jobs = 1)\n",
    "\n",
    "cv_grid.fit(train_X, train_y) ;"
   ]
  },
  {
   "cell_type": "code",
   "execution_count": 64,
   "metadata": {},
   "outputs": [],
   "source": [
    "logistic_balanced = cv_grid.best_estimator_\n",
    "\n",
    "logistic_balanced_test_pred = logistic_balanced.predict(test_X)\n",
    "\n",
    "metrics_logistic_balanced = show_metrics(test_y, logistic_balanced_test_pred)"
   ]
  },
  {
   "cell_type": "code",
   "execution_count": 65,
   "metadata": {},
   "outputs": [
    {
     "data": {
      "text/plain": [
       "accuracy     0.976837\n",
       "precision    0.414868\n",
       "recall       0.878173\n",
       "f1_score     0.563518\n",
       "f_0.2        0.421108\n",
       "dtype: float64"
      ]
     },
     "execution_count": 65,
     "metadata": {},
     "output_type": "execute_result"
    }
   ],
   "source": [
    "metrics_logistic_balanced"
   ]
  },
  {
   "cell_type": "markdown",
   "metadata": {},
   "source": [
    "#### Ресэмплинг"
   ]
  },
  {
   "cell_type": "markdown",
   "metadata": {},
   "source": [
    "Основная идея -- сбалансировать классы в обучающей выборке добавлением наблюдений или изменением их веса."
   ]
  },
  {
   "cell_type": "markdown",
   "metadata": {},
   "source": [
    "Рассмотрим технику прореживания доминирующего класса (*undersampling*)"
   ]
  },
  {
   "cell_type": "markdown",
   "metadata": {},
   "source": [
    "Для достижения баланса первая техника физически отбрасывает долю наблюдений доминирующего класса `0`."
   ]
  },
  {
   "cell_type": "code",
   "execution_count": 66,
   "metadata": {},
   "outputs": [],
   "source": [
    "from sklearn.utils import check_random_state, safe_indexing\n",
    "\n",
    "\n",
    "def undersample(X, y, ratio=20, pos_label=1, random_state=None):\n",
    "    random_state = check_random_state(random_state)\n",
    "\n",
    "    # отбрасываем случайную долю наблюдений доминирующего класса\n",
    "    class_major_index = np.flatnonzero(y != pos_label)\n",
    "\n",
    "    n_major = int(len(class_major_index) / ratio)\n",
    "    class_major_index = random_state.permutation(class_major_index)\n",
    "    class_major_index = class_major_index[:n_major]\n",
    "\n",
    "    # выбираем все примеры минорного класса\n",
    "    class_minor_index = np.flatnonzero(y == pos_label)\n",
    "\n",
    "    # составляем новую (временную) обучающую выборку\n",
    "    indices = np.r_[class_major_index, class_minor_index]\n",
    "\n",
    "    return safe_indexing(X, indices), safe_indexing(y, indices)"
   ]
  },
  {
   "cell_type": "markdown",
   "metadata": {},
   "source": [
    "Прореживание доминирующего класса\n",
    "* может сильно уменьшить количество наблюдений в итоговой обучающей\n",
    "выборке, что негативно сказывается на обученном классификаторе:\n",
    "    * может плохо обобщить из-за нехватки данных;\n",
    "    * сам алгоритм обучения моджет очень чувствителен к изменению выборки.\n",
    "\n",
    "\n",
    "* снижает затраты на обучение модели, позволяя тренировать больше классификаторов"
   ]
  },
  {
   "cell_type": "code",
   "execution_count": 67,
   "metadata": {},
   "outputs": [],
   "source": [
    "estimator = LogisticRegression(class_weight=None)"
   ]
  },
  {
   "cell_type": "markdown",
   "metadata": {},
   "source": [
    "Выделим из текущего трейна валидацоннный набор"
   ]
  },
  {
   "cell_type": "code",
   "execution_count": 68,
   "metadata": {},
   "outputs": [],
   "source": [
    "dev_X, val_X, dev_y, val_y = train_test_split(train_X, train_y, test_size=0.25,\n",
    "                                              stratify=train_y, random_state=321)"
   ]
  },
  {
   "cell_type": "markdown",
   "metadata": {},
   "source": [
    "Проведём валидацию модели с андерсэмплингом вручную"
   ]
  },
  {
   "cell_type": "code",
   "execution_count": 69,
   "metadata": {
    "scrolled": true
   },
   "outputs": [],
   "source": [
    "from sklearn.model_selection import ParameterGrid\n",
    "from sklearn.base import clone\n",
    "\n",
    "n_resamples, ratio = 7, 10\n",
    "par_grid = ParameterGrid(grid)\n",
    "\n",
    "results_grid = []\n",
    "for par in par_grid:\n",
    "\n",
    "    results_resample = []\n",
    "    for b in range(n_resamples):\n",
    "        und_X, und_y = undersample(dev_X, dev_y, ratio, pos_label=1, random_state=None)\n",
    "\n",
    "        cv_estimator = clone(estimator).set_params(**par)\n",
    "        cv_estimator.fit(und_X, und_y)\n",
    "        \n",
    "        cv_val_pred = cv_estimator.predict(val_X)\n",
    "        results_resample.append(show_metrics(val_y, cv_val_pred))\n",
    "\n",
    "    results_resample = pd.concat(results_resample, axis=1).T\n",
    "\n",
    "    results_grid.append((par, results_resample.mean().rename(\"mean\")))"
   ]
  },
  {
   "cell_type": "markdown",
   "metadata": {},
   "source": [
    "Выбираем $F_1$ метрики и находим наилучшую модель"
   ]
  },
  {
   "cell_type": "code",
   "execution_count": 70,
   "metadata": {},
   "outputs": [],
   "source": [
    "f1_scores = [(par, met[\"f1_score\"]) for par, met in results_grid]\n",
    "\n",
    "best_par_, _ = f1_scores[np.argmax([f1 for par, f1 in f1_scores])]"
   ]
  },
  {
   "cell_type": "markdown",
   "metadata": {},
   "source": [
    "Честно делаем андерсэмплинг и обучаем модель заново"
   ]
  },
  {
   "cell_type": "code",
   "execution_count": 71,
   "metadata": {},
   "outputs": [
    {
     "data": {
      "text/plain": [
       "LogisticRegression(C=0.021544346900318832, class_weight=None, dual=False,\n",
       "          fit_intercept=True, intercept_scaling=1, max_iter=100,\n",
       "          multi_class='ovr', n_jobs=1, penalty='l2', random_state=None,\n",
       "          solver='liblinear', tol=0.0001, verbose=0, warm_start=False)"
      ]
     },
     "execution_count": 71,
     "metadata": {},
     "output_type": "execute_result"
    }
   ],
   "source": [
    "und_X, und_y = undersample(train_X, train_y, ratio, pos_label=1, random_state=None)\n",
    "\n",
    "logistic_undersample = clone(estimator).set_params(**best_par_)\n",
    "logistic_undersample.fit(und_X, und_y)"
   ]
  },
  {
   "cell_type": "markdown",
   "metadata": {},
   "source": [
    "Считаем метрики"
   ]
  },
  {
   "cell_type": "code",
   "execution_count": 72,
   "metadata": {},
   "outputs": [],
   "source": [
    "logistic_undersample_test_pred = logistic_undersample.predict(test_X)\n",
    "\n",
    "metrics_logistic_undersample = show_metrics(test_y, logistic_undersample_test_pred)"
   ]
  },
  {
   "cell_type": "code",
   "execution_count": 73,
   "metadata": {},
   "outputs": [
    {
     "data": {
      "text/plain": [
       "accuracy     0.992653\n",
       "precision    0.801075\n",
       "recall       0.756345\n",
       "f1_score     0.778068\n",
       "f_0.2        0.799747\n",
       "dtype: float64"
      ]
     },
     "execution_count": 73,
     "metadata": {},
     "output_type": "execute_result"
    }
   ],
   "source": [
    "metrics_logistic_undersample"
   ]
  },
  {
   "cell_type": "markdown",
   "metadata": {},
   "source": [
    "Сравним метрики"
   ]
  },
  {
   "cell_type": "code",
   "execution_count": 74,
   "metadata": {},
   "outputs": [
    {
     "data": {
      "text/html": [
       "<div>\n",
       "<style scoped>\n",
       "    .dataframe tbody tr th:only-of-type {\n",
       "        vertical-align: middle;\n",
       "    }\n",
       "\n",
       "    .dataframe tbody tr th {\n",
       "        vertical-align: top;\n",
       "    }\n",
       "\n",
       "    .dataframe thead th {\n",
       "        text-align: right;\n",
       "    }\n",
       "</style>\n",
       "<table border=\"1\" class=\"dataframe\">\n",
       "  <thead>\n",
       "    <tr style=\"text-align: right;\">\n",
       "      <th></th>\n",
       "      <th>elliptic</th>\n",
       "      <th>isolation</th>\n",
       "      <th>logistic_balanced</th>\n",
       "      <th>logistic_naive</th>\n",
       "      <th>logistic_undersample</th>\n",
       "      <th>pca</th>\n",
       "      <th>svm</th>\n",
       "    </tr>\n",
       "  </thead>\n",
       "  <tbody>\n",
       "    <tr>\n",
       "      <th>accuracy</th>\n",
       "      <td>0.916508</td>\n",
       "      <td>0.914434</td>\n",
       "      <td>0.976837</td>\n",
       "      <td>0.992999</td>\n",
       "      <td>0.992653</td>\n",
       "      <td>0.978479</td>\n",
       "      <td>0.017027</td>\n",
       "    </tr>\n",
       "    <tr>\n",
       "      <th>precision</th>\n",
       "      <td>0.152665</td>\n",
       "      <td>0.151275</td>\n",
       "      <td>0.414868</td>\n",
       "      <td>0.891892</td>\n",
       "      <td>0.801075</td>\n",
       "      <td>0.250000</td>\n",
       "      <td>0.016776</td>\n",
       "    </tr>\n",
       "    <tr>\n",
       "      <th>recall</th>\n",
       "      <td>0.857868</td>\n",
       "      <td>0.873096</td>\n",
       "      <td>0.878173</td>\n",
       "      <td>0.670051</td>\n",
       "      <td>0.756345</td>\n",
       "      <td>0.131980</td>\n",
       "      <td>0.984772</td>\n",
       "    </tr>\n",
       "    <tr>\n",
       "      <th>f1_score</th>\n",
       "      <td>0.259202</td>\n",
       "      <td>0.257871</td>\n",
       "      <td>0.563518</td>\n",
       "      <td>0.765217</td>\n",
       "      <td>0.778068</td>\n",
       "      <td>0.172757</td>\n",
       "      <td>0.032990</td>\n",
       "    </tr>\n",
       "    <tr>\n",
       "      <th>f_0.2</th>\n",
       "      <td>0.156273</td>\n",
       "      <td>0.154872</td>\n",
       "      <td>0.421108</td>\n",
       "      <td>0.883674</td>\n",
       "      <td>0.799747</td>\n",
       "      <td>0.243875</td>\n",
       "      <td>0.017253</td>\n",
       "    </tr>\n",
       "  </tbody>\n",
       "</table>\n",
       "</div>"
      ],
      "text/plain": [
       "           elliptic  isolation  logistic_balanced  logistic_naive  \\\n",
       "accuracy   0.916508   0.914434           0.976837        0.992999   \n",
       "precision  0.152665   0.151275           0.414868        0.891892   \n",
       "recall     0.857868   0.873096           0.878173        0.670051   \n",
       "f1_score   0.259202   0.257871           0.563518        0.765217   \n",
       "f_0.2      0.156273   0.154872           0.421108        0.883674   \n",
       "\n",
       "           logistic_undersample       pca       svm  \n",
       "accuracy               0.992653  0.978479  0.017027  \n",
       "precision              0.801075  0.250000  0.016776  \n",
       "recall                 0.756345  0.131980  0.984772  \n",
       "f1_score               0.778068  0.172757  0.032990  \n",
       "f_0.2                  0.799747  0.243875  0.017253  "
      ]
     },
     "execution_count": 74,
     "metadata": {},
     "output_type": "execute_result"
    }
   ],
   "source": [
    "all_metrics = pd.concat(dict([\n",
    "    (\"elliptic\", metrics_elliptic),\n",
    "    (\"isolation\", metrics_isolation),\n",
    "    (\"svm\", metrics_svm),\n",
    "    (\"pca\", metrics_pca),\n",
    "    (\"logistic_naive\", metrics_logistic_naive),\n",
    "    (\"logistic_balanced\", metrics_logistic_balanced),\n",
    "    (\"logistic_undersample\", metrics_logistic_undersample)\n",
    "]), axis=1)\n",
    "\n",
    "all_metrics"
   ]
  },
  {
   "cell_type": "markdown",
   "metadata": {},
   "source": [
    "<br>"
   ]
  }
 ],
 "metadata": {
  "kernelspec": {
   "display_name": "Python 3",
   "language": "python",
   "name": "python3"
  },
  "language_info": {
   "codemirror_mode": {
    "name": "ipython",
    "version": 3
   },
   "file_extension": ".py",
   "mimetype": "text/x-python",
   "name": "python",
   "nbconvert_exporter": "python",
   "pygments_lexer": "ipython3",
   "version": "3.7.4"
  }
 },
 "nbformat": 4,
 "nbformat_minor": 2
}
